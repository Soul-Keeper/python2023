{
 "cells": [
  {
   "cell_type": "code",
   "execution_count": 2,
   "id": "c6a2e710",
   "metadata": {},
   "outputs": [
    {
     "data": {
      "text/plain": [
       "<Figure size 640x480 with 0 Axes>"
      ]
     },
     "metadata": {},
     "output_type": "display_data"
    }
   ],
   "source": [
    "import ctree\n",
    "import matplotlib.pyplot as plt\n",
    "\n",
    "from easy import fib\n",
    "\n",
    "tree = ctree.get_ast(fib)\n",
    "plt.savefig(\"tree.png\", tree)"
   ]
  },
  {
   "cell_type": "code",
   "execution_count": null,
   "id": "64ad82ae",
   "metadata": {},
   "outputs": [],
   "source": []
  }
 ],
 "metadata": {
  "kernelspec": {
   "display_name": "Python 3 (ipykernel)",
   "language": "python",
   "name": "python3"
  },
  "language_info": {
   "codemirror_mode": {
    "name": "ipython",
    "version": 3
   },
   "file_extension": ".py",
   "mimetype": "text/x-python",
   "name": "python",
   "nbconvert_exporter": "python",
   "pygments_lexer": "ipython3",
   "version": "3.9.16"
  }
 },
 "nbformat": 4,
 "nbformat_minor": 5
}
